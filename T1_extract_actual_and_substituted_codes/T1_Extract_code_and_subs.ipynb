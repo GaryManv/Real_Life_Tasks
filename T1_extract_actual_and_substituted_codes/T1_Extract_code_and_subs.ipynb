{
 "cells": [
  {
   "cell_type": "code",
   "execution_count": 94,
   "id": "8cbd40e9-3dfd-4de3-8627-eec401d6379d",
   "metadata": {
    "tags": []
   },
   "outputs": [],
   "source": [
    "import pandas as pd\n",
    "import re"
   ]
  },
  {
   "cell_type": "code",
   "execution_count": 95,
   "id": "e36f40d5-a221-4275-b5d8-5d1fa25c9b16",
   "metadata": {
    "tags": []
   },
   "outputs": [],
   "source": [
    "# Define the file name for processing data\n",
    "file=\"Supersided.txt\""
   ]
  },
  {
   "cell_type": "code",
   "execution_count": 96,
   "id": "e44ea72b-701b-46e8-93d5-24fe380810ce",
   "metadata": {
    "tags": []
   },
   "outputs": [],
   "source": [
    "# Open the file for reading and read its contents into a list of lines\n",
    "with open(file,'r',encoding='utf-8') as input_file:\n",
    "    lines=input_file.readlines()"
   ]
  },
  {
   "cell_type": "code",
   "execution_count": 98,
   "id": "6a63734f-5d7e-444a-b72c-0f116a4d7d49",
   "metadata": {
    "tags": []
   },
   "outputs": [],
   "source": [
    "# Filter lines by removing leading and trailing whitespaces,as well as replace single spaces with no spacessingle and selecting lines containing \"Item:\", \"No\", or \"Yes\"\n",
    "filtered_lines=[re.sub(r'(?<=\\S) (?=\\S)', '', line.lstrip().rstrip()) for line in lines if \"Item: \" in line or \"No\" in line or \"Yes\" in line]"
   ]
  },
  {
   "cell_type": "code",
   "execution_count": 99,
   "id": "0a6d2090-2917-4a00-a222-90e6aaf8ecf4",
   "metadata": {
    "tags": []
   },
   "outputs": [],
   "source": [
    "# Split the filtered lines into segments based on spaces\n",
    "splited_filtered_lines=[segment.split() for segment in filtered_lines]"
   ]
  },
  {
   "cell_type": "code",
   "execution_count": 100,
   "id": "6a15fcf5-ea7a-41c7-a1f4-936269b60494",
   "metadata": {
    "tags": []
   },
   "outputs": [
    {
     "data": {
      "text/plain": [
       "['Item:69501',\n",
       " 'Description:VALVE&DISCASM,',\n",
       " 'R-6-50',\n",
       " 'UOI:',\n",
       " 'Category:150.199.M&EESPAREOTHER.26300']"
      ]
     },
     "execution_count": 100,
     "metadata": {},
     "output_type": "execute_result"
    }
   ],
   "source": [
    "splited_filtered_lines[0]"
   ]
  },
  {
   "cell_type": "code",
   "execution_count": 101,
   "id": "0133c409-167f-4a8f-b887-713f6c21134a",
   "metadata": {
    "tags": []
   },
   "outputs": [],
   "source": [
    "# Create a new list with inner lists containing the first elements from split segments\n",
    "nested_list=[[inner_list[0]] for inner_list in splited_filtered_lines]"
   ]
  },
  {
   "cell_type": "code",
   "execution_count": 102,
   "id": "b1ed2c45-de56-4edd-8aa4-5936d174eeaf",
   "metadata": {
    "tags": []
   },
   "outputs": [
    {
     "data": {
      "text/plain": [
       "[['Item:69501'],\n",
       " ['79770'],\n",
       " ['Item:69748'],\n",
       " ['79611'],\n",
       " ['Item:6BQP87/3'],\n",
       " ['4101852'],\n",
       " ['Item:6BQPUG/1'],\n",
       " ['4066079'],\n",
       " ['Item:6C060-99410'],\n",
       " ['8608940']]"
      ]
     },
     "execution_count": 102,
     "metadata": {},
     "output_type": "execute_result"
    }
   ],
   "source": [
    "nested_list[0:10]"
   ]
  },
  {
   "cell_type": "code",
   "execution_count": 103,
   "id": "515ccd5d-f2d7-4dfb-9ec0-767a96ddf14a",
   "metadata": {
    "tags": []
   },
   "outputs": [
    {
     "name": "stdout",
     "output_type": "stream",
     "text": [
      "['Item:69501', '79770', 'Item:69748', '79611', 'Item:6BQP87/3', '4101852', 'Item:6BQPUG/1', '4066079', 'Item:6C060-99410', '8608940']\n"
     ]
    }
   ],
   "source": [
    "# create a list where after each values with \"Item:\" comes value without \"Item:\".  \n",
    "result = []\n",
    "# Initialize a variable to keep track of the current 'Item:...' element\n",
    "current_item = None\n",
    "\n",
    "for sublist in nested_list:\n",
    "    for item in sublist:\n",
    "        \n",
    "        if item.startswith('Item:'):\n",
    "            current_item = item\n",
    "        else:\n",
    "            result.append(current_item)\n",
    "            result.append(item)\n",
    "print(result[0:10])"
   ]
  },
  {
   "cell_type": "code",
   "execution_count": 104,
   "id": "d0cb651f-58c9-4524-9276-fd7da3509080",
   "metadata": {
    "tags": []
   },
   "outputs": [],
   "source": [
    "# creating dataframe\n",
    "df2=pd.DataFrame({'SupersidedCode':result[0::2],'ActualCode':result[1::2]})"
   ]
  },
  {
   "cell_type": "code",
   "execution_count": 105,
   "id": "2b7f83d6-6d78-4b07-8454-4fb09434d263",
   "metadata": {
    "tags": []
   },
   "outputs": [],
   "source": [
    "# remove \"Item:\" from the value\n",
    "df2['SupersidedCode']=df2['SupersidedCode'].str[5:]"
   ]
  },
  {
   "cell_type": "code",
   "execution_count": 115,
   "id": "8422901a-a542-4391-8328-9b44fbcd5b94",
   "metadata": {
    "tags": []
   },
   "outputs": [
    {
     "data": {
      "text/html": [
       "<div>\n",
       "<style scoped>\n",
       "    .dataframe tbody tr th:only-of-type {\n",
       "        vertical-align: middle;\n",
       "    }\n",
       "\n",
       "    .dataframe tbody tr th {\n",
       "        vertical-align: top;\n",
       "    }\n",
       "\n",
       "    .dataframe thead th {\n",
       "        text-align: right;\n",
       "    }\n",
       "</style>\n",
       "<table border=\"1\" class=\"dataframe\">\n",
       "  <thead>\n",
       "    <tr style=\"text-align: right;\">\n",
       "      <th></th>\n",
       "      <th>SupersidedCode</th>\n",
       "      <th>ActualCode</th>\n",
       "    </tr>\n",
       "  </thead>\n",
       "  <tbody>\n",
       "    <tr>\n",
       "      <th>0</th>\n",
       "      <td>69501</td>\n",
       "      <td>79770</td>\n",
       "    </tr>\n",
       "    <tr>\n",
       "      <th>1</th>\n",
       "      <td>69748</td>\n",
       "      <td>79611</td>\n",
       "    </tr>\n",
       "    <tr>\n",
       "      <th>2</th>\n",
       "      <td>6BQP87/3</td>\n",
       "      <td>4101852</td>\n",
       "    </tr>\n",
       "    <tr>\n",
       "      <th>3</th>\n",
       "      <td>6BQPUG/1</td>\n",
       "      <td>4066079</td>\n",
       "    </tr>\n",
       "    <tr>\n",
       "      <th>4</th>\n",
       "      <td>6C060-99410</td>\n",
       "      <td>8608940</td>\n",
       "    </tr>\n",
       "  </tbody>\n",
       "</table>\n",
       "</div>"
      ],
      "text/plain": [
       "  SupersidedCode ActualCode\n",
       "0          69501      79770\n",
       "1          69748      79611\n",
       "2       6BQP87/3    4101852\n",
       "3       6BQPUG/1    4066079\n",
       "4    6C060-99410    8608940"
      ]
     },
     "execution_count": 115,
     "metadata": {},
     "output_type": "execute_result"
    }
   ],
   "source": [
    "df2.head(5)"
   ]
  },
  {
   "cell_type": "code",
   "execution_count": 107,
   "id": "31acc8b1-abb9-44a8-b730-86978acdc0fa",
   "metadata": {
    "tags": []
   },
   "outputs": [
    {
     "name": "stdout",
     "output_type": "stream",
     "text": [
      "<class 'pandas.core.frame.DataFrame'>\n",
      "RangeIndex: 62152 entries, 0 to 62151\n",
      "Data columns (total 2 columns):\n",
      " #   Column          Non-Null Count  Dtype \n",
      "---  ------          --------------  ----- \n",
      " 0   SupersidedCode  62152 non-null  object\n",
      " 1   ActualCode      62152 non-null  object\n",
      "dtypes: object(2)\n",
      "memory usage: 971.3+ KB\n"
     ]
    }
   ],
   "source": [
    "df2.info()"
   ]
  },
  {
   "cell_type": "code",
   "execution_count": 114,
   "id": "07660b7c-9a98-43ab-aa2f-26f7fc7234c7",
   "metadata": {
    "tags": []
   },
   "outputs": [],
   "source": [
    "# remove duplicated rows\n",
    "df_no_duplicates=df2.drop_duplicates(subset=['SupersidedCode','ActualCode'])"
   ]
  },
  {
   "cell_type": "code",
   "execution_count": 111,
   "id": "945cda7d-2407-4f00-af7e-bdae9cd6f629",
   "metadata": {
    "tags": []
   },
   "outputs": [
    {
     "data": {
      "text/html": [
       "<div>\n",
       "<style scoped>\n",
       "    .dataframe tbody tr th:only-of-type {\n",
       "        vertical-align: middle;\n",
       "    }\n",
       "\n",
       "    .dataframe tbody tr th {\n",
       "        vertical-align: top;\n",
       "    }\n",
       "\n",
       "    .dataframe thead th {\n",
       "        text-align: right;\n",
       "    }\n",
       "</style>\n",
       "<table border=\"1\" class=\"dataframe\">\n",
       "  <thead>\n",
       "    <tr style=\"text-align: right;\">\n",
       "      <th></th>\n",
       "      <th>SupersidedCode</th>\n",
       "      <th>ActualCode</th>\n",
       "    </tr>\n",
       "  </thead>\n",
       "  <tbody>\n",
       "    <tr>\n",
       "      <th>0</th>\n",
       "      <td>69501</td>\n",
       "      <td>79770</td>\n",
       "    </tr>\n",
       "    <tr>\n",
       "      <th>1</th>\n",
       "      <td>69748</td>\n",
       "      <td>79611</td>\n",
       "    </tr>\n",
       "    <tr>\n",
       "      <th>2</th>\n",
       "      <td>6BQP87/3</td>\n",
       "      <td>4101852</td>\n",
       "    </tr>\n",
       "    <tr>\n",
       "      <th>3</th>\n",
       "      <td>6BQPUG/1</td>\n",
       "      <td>4066079</td>\n",
       "    </tr>\n",
       "    <tr>\n",
       "      <th>4</th>\n",
       "      <td>6C060-99410</td>\n",
       "      <td>8608940</td>\n",
       "    </tr>\n",
       "  </tbody>\n",
       "</table>\n",
       "</div>"
      ],
      "text/plain": [
       "  SupersidedCode ActualCode\n",
       "0          69501      79770\n",
       "1          69748      79611\n",
       "2       6BQP87/3    4101852\n",
       "3       6BQPUG/1    4066079\n",
       "4    6C060-99410    8608940"
      ]
     },
     "execution_count": 111,
     "metadata": {},
     "output_type": "execute_result"
    }
   ],
   "source": [
    "df_no_duplicates.head()"
   ]
  },
  {
   "cell_type": "code",
   "execution_count": 112,
   "id": "a635549c-0f65-4ba3-b5f2-04fc67eab1ee",
   "metadata": {
    "tags": []
   },
   "outputs": [
    {
     "name": "stdout",
     "output_type": "stream",
     "text": [
      "<class 'pandas.core.frame.DataFrame'>\n",
      "Int64Index: 8512 entries, 0 to 9902\n",
      "Data columns (total 2 columns):\n",
      " #   Column          Non-Null Count  Dtype \n",
      "---  ------          --------------  ----- \n",
      " 0   SupersidedCode  8512 non-null   object\n",
      " 1   ActualCode      8512 non-null   object\n",
      "dtypes: object(2)\n",
      "memory usage: 199.5+ KB\n"
     ]
    }
   ],
   "source": [
    "df_no_duplicates.info()"
   ]
  },
  {
   "cell_type": "code",
   "execution_count": 113,
   "id": "f8bab1ef-2a44-43ad-b5a1-2172bca2892b",
   "metadata": {
    "tags": []
   },
   "outputs": [],
   "source": [
    "# saving in csv file\n",
    "df_no_duplicates.to_csv('BLY_SUBS_2_columns.csv')"
   ]
  }
 ],
 "metadata": {
  "kernelspec": {
   "display_name": "Python 3 (ipykernel)",
   "language": "python",
   "name": "python3"
  },
  "language_info": {
   "codemirror_mode": {
    "name": "ipython",
    "version": 3
   },
   "file_extension": ".py",
   "mimetype": "text/x-python",
   "name": "python",
   "nbconvert_exporter": "python",
   "pygments_lexer": "ipython3",
   "version": "3.11.3"
  }
 },
 "nbformat": 4,
 "nbformat_minor": 5
}
