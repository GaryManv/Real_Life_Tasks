{
 "cells": [
  {
   "cell_type": "code",
   "execution_count": 5,
   "id": "8cbd40e9-3dfd-4de3-8627-eec401d6379d",
   "metadata": {
    "tags": []
   },
   "outputs": [],
   "source": [
    "import pandas as pd"
   ]
  },
  {
   "cell_type": "code",
   "execution_count": null,
   "id": "25f531c3-d0b1-4cd2-a7d3-293e42b28a1d",
   "metadata": {},
   "outputs": [],
   "source": []
  },
  {
   "cell_type": "code",
   "execution_count": 6,
   "id": "e36f40d5-a221-4275-b5d8-5d1fa25c9b16",
   "metadata": {
    "tags": []
   },
   "outputs": [],
   "source": [
    "# Define the file name for processing data\n",
    "file=\"Supersided.txt\""
   ]
  },
  {
   "cell_type": "code",
   "execution_count": 26,
   "id": "e44ea72b-701b-46e8-93d5-24fe380810ce",
   "metadata": {
    "tags": []
   },
   "outputs": [],
   "source": [
    "# Open the file for reading and read its contents into a list of lines\n",
    "i=0\n",
    "with open(file,'r',encoding='utf-8') as input_file:\n",
    "    lines=input_file.readlines()"
   ]
  },
  {
   "cell_type": "code",
   "execution_count": null,
   "id": "8d581197-34de-4247-a25f-6fd22cfb4fc4",
   "metadata": {
    "tags": []
   },
   "outputs": [],
   "source": []
  },
  {
   "cell_type": "code",
   "execution_count": 28,
   "id": "8630b00a-5bd7-4c9e-bf86-7954fcdc1549",
   "metadata": {
    "tags": []
   },
   "outputs": [],
   "source": [
    "# Filter lines by removing leading and trailing whitespaces, and selecting lines containing \"Item:\", \"No\", or \"Yes\"\n",
    "filtered_lines=[line.lstrip().rstrip() for line in lines if \"Item: \" in line or \"No\" in line or \"Yes\" in line]"
   ]
  },
  {
   "cell_type": "code",
   "execution_count": null,
   "id": "12266bd7-0520-46f4-b498-7631d7b3a67f",
   "metadata": {
    "tags": []
   },
   "outputs": [],
   "source": []
  },
  {
   "cell_type": "code",
   "execution_count": 29,
   "id": "0a6d2090-2917-4a00-a222-90e6aaf8ecf4",
   "metadata": {
    "tags": []
   },
   "outputs": [],
   "source": [
    "# Split the filtered lines into segments based on spaces\n",
    "splited_filtered_lines=[segment.split() for segment in filtered_lines]"
   ]
  },
  {
   "cell_type": "code",
   "execution_count": 30,
   "id": "0133c409-167f-4a8f-b887-713f6c21134a",
   "metadata": {
    "tags": []
   },
   "outputs": [],
   "source": [
    "# Create a new list with inner lists containing the first two elements from split segments\n",
    "result=[[inner_list[0], inner_list[1]] for inner_list in splited_filtered_lines]"
   ]
  },
  {
   "cell_type": "code",
   "execution_count": null,
   "id": "b1ed2c45-de56-4edd-8aa4-5936d174eeaf",
   "metadata": {
    "tags": []
   },
   "outputs": [],
   "source": []
  },
  {
   "cell_type": "code",
   "execution_count": 31,
   "id": "ea310a53-6070-43a6-877d-dea482c43371",
   "metadata": {
    "tags": []
   },
   "outputs": [],
   "source": [
    "# Flatten the nested list (result) into a single list\n",
    "merged_list = [item for sublist in result for item in sublist]"
   ]
  },
  {
   "cell_type": "code",
   "execution_count": 32,
   "id": "7fab97a5-f3ce-4c30-8ec5-4b29e47e3a35",
   "metadata": {
    "tags": []
   },
   "outputs": [],
   "source": [
    "# Split the merged list into sublists when 'Item:' is encountered\n",
    "\n",
    "result2 = []\n",
    "current_sublist = []\n",
    "\n",
    "for item in merged_list:\n",
    "    if item == 'Item:':\n",
    "        if current_sublist:\n",
    "            result2.append(current_sublist)\n",
    "        current_sublist = [item]\n",
    "    else:\n",
    "        current_sublist.append(item)\n",
    "\n",
    "# Append the last sublist if it's not empty\n",
    "if current_sublist:\n",
    "    result2.append(current_sublist)\n",
    "\n"
   ]
  },
  {
   "cell_type": "code",
   "execution_count": null,
   "id": "31acc8b1-abb9-44a8-b730-86978acdc0fa",
   "metadata": {
    "tags": []
   },
   "outputs": [],
   "source": []
  },
  {
   "cell_type": "code",
   "execution_count": 37,
   "id": "f8bab1ef-2a44-43ad-b5a1-2172bca2892b",
   "metadata": {
    "tags": []
   },
   "outputs": [],
   "source": [
    "# Create a DataFrame from the list\n",
    "df = pd.DataFrame(result2)\n",
    "\n",
    "# Set the column names (optional but helpful)\n",
    "df.columns = ['Item', 'Actual', 'SubstitutedCode1', 'Description1','SubstitutedCode2','Description2','SubstitutedCode3','Description3','SubstitutedCode4','Description4','SubstitutedCode5','Description5','SubstitutedCode6','Description6','SubstitutedCode7','Description7']\n",
    "df=df.dropna(subset=['SubstitutedCode1'])\n",
    "df=df.drop(columns=['Item'])\n",
    "df.to_csv('BLY_SUBS_full.csv')\n",
    "\n",
    "\n",
    "\n",
    "\n"
   ]
  },
  {
   "cell_type": "code",
   "execution_count": 38,
   "id": "7a66fef1-f96d-4896-993c-cec1fef65b59",
   "metadata": {
    "tags": []
   },
   "outputs": [
    {
     "name": "stdout",
     "output_type": "stream",
     "text": [
      "<class 'pandas.core.frame.DataFrame'>\n",
      "Int64Index: 59268 entries, 0 to 65558\n",
      "Data columns (total 15 columns):\n",
      " #   Column            Non-Null Count  Dtype \n",
      "---  ------            --------------  ----- \n",
      " 0   Actual            59268 non-null  object\n",
      " 1   SubstitutedCode1  59268 non-null  object\n",
      " 2   Description1      59268 non-null  object\n",
      " 3   SubstitutedCode2  2580 non-null   object\n",
      " 4   Description2      2580 non-null   object\n",
      " 5   SubstitutedCode3  218 non-null    object\n",
      " 6   Description3      218 non-null    object\n",
      " 7   SubstitutedCode4  38 non-null     object\n",
      " 8   Description4      38 non-null     object\n",
      " 9   SubstitutedCode5  23 non-null     object\n",
      " 10  Description5      23 non-null     object\n",
      " 11  SubstitutedCode6  16 non-null     object\n",
      " 12  Description6      16 non-null     object\n",
      " 13  SubstitutedCode7  9 non-null      object\n",
      " 14  Description7      9 non-null      object\n",
      "dtypes: object(15)\n",
      "memory usage: 7.2+ MB\n"
     ]
    }
   ],
   "source": [
    "df.info()"
   ]
  },
  {
   "cell_type": "code",
   "execution_count": null,
   "id": "b018f013-d651-4149-88a1-a3dccfba0c80",
   "metadata": {},
   "outputs": [],
   "source": []
  }
 ],
 "metadata": {
  "kernelspec": {
   "display_name": "Python 3 (ipykernel)",
   "language": "python",
   "name": "python3"
  },
  "language_info": {
   "codemirror_mode": {
    "name": "ipython",
    "version": 3
   },
   "file_extension": ".py",
   "mimetype": "text/x-python",
   "name": "python",
   "nbconvert_exporter": "python",
   "pygments_lexer": "ipython3",
   "version": "3.11.3"
  }
 },
 "nbformat": 4,
 "nbformat_minor": 5
}
